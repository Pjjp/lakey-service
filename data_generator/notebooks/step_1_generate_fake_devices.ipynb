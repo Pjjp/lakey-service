{
 "cells": [
  {
   "cell_type": "code",
   "execution_count": 26,
   "metadata": {},
   "outputs": [],
   "source": [
    "import uuid\n",
    "import random\n",
    "import math\n",
    "\n",
    "import dask.dataframe as dd\n",
    "from glob import glob\n",
    "import numpy as np\n",
    "import pandas as pd\n",
    "\n",
    "from dask.diagnostics import ProgressBar\n",
    "\n",
    "pbar = ProgressBar()\n",
    "pbar.register()"
   ]
  },
  {
   "cell_type": "markdown",
   "metadata": {},
   "source": [
    "# Generate fake devices with geolocation"
   ]
  },
  {
   "cell_type": "markdown",
   "metadata": {},
   "source": [
    "## Configuration"
   ]
  },
  {
   "cell_type": "code",
   "execution_count": 72,
   "metadata": {},
   "outputs": [],
   "source": [
    "number_of_devices = 100\n",
    "number_of_cores = 8\n",
    "\n",
    "# real data\n",
    "weather_real_path = '../data/weather_real/*/*/*.parquet'\n",
    "\n",
    "# save to\n",
    "fake_devices_with_geolocation_path = '../data/device_geolocations_fake/{}_devices_with_geolocation.parquet'.format(str(number_of_devices))"
   ]
  },
  {
   "cell_type": "code",
   "execution_count": 73,
   "metadata": {},
   "outputs": [],
   "source": [
    "area_matrix = [ # lat, lng of the center, radius in km, probability\n",
    "    [48.24, 11.48, 35, 0.07],\n",
    "    [51.17, 7.01, 40, 0.24],\n",
    "    [50.31, 8.86, 50, 0.11],\n",
    "    [49.65, 7.39, 15, 0.06],\n",
    "    [48.54, 8.73, 10, 0.01],\n",
    "    [49.46, 11.23, 20, 0.06],\n",
    "    [52.73, 13.36, 30, 0.1],\n",
    "    [52.27, 11.68, 20, 0.07],\n",
    "    [52.68, 9.02, 50, 0.21],\n",
    "    [53.69, 10.13, 25, 0.05],\n",
    "    [51.18, 13.69, 30, 0.02]]"
   ]
  },
  {
   "cell_type": "markdown",
   "metadata": {},
   "source": [
    "## Generate device ids and geolocations"
   ]
  },
  {
   "cell_type": "code",
   "execution_count": 74,
   "metadata": {},
   "outputs": [],
   "source": [
    "location_index = np.random.choice(\n",
    "    [x for x in range(len(area_matrix))],\n",
    "    number_of_devices,\n",
    "    p=[loc[3] for loc in area_matrix])"
   ]
  },
  {
   "cell_type": "code",
   "execution_count": 75,
   "metadata": {},
   "outputs": [],
   "source": [
    "# 1 degree = ~111km\n",
    "devices = pd.DataFrame({\n",
    "    'gateway_uuid': [str(uuid.uuid4()) for x in range(number_of_devices)],\n",
    "    'geo_lat': [round(area_matrix[x][0] + random.uniform(-1 * area_matrix[x][2]/111, area_matrix[x][2]/111), 4) for x in location_index],\n",
    "    'geo_lng': [round(area_matrix[x][1] + random.uniform(-1 * area_matrix[x][2]/111, area_matrix[x][2]/111), 4) for x in location_index]\n",
    "})"
   ]
  },
  {
   "cell_type": "code",
   "execution_count": 76,
   "metadata": {},
   "outputs": [
    {
     "data": {
      "text/html": [
       "<div>\n",
       "<style scoped>\n",
       "    .dataframe tbody tr th:only-of-type {\n",
       "        vertical-align: middle;\n",
       "    }\n",
       "\n",
       "    .dataframe tbody tr th {\n",
       "        vertical-align: top;\n",
       "    }\n",
       "\n",
       "    .dataframe thead th {\n",
       "        text-align: right;\n",
       "    }\n",
       "</style>\n",
       "<table border=\"1\" class=\"dataframe\">\n",
       "  <thead>\n",
       "    <tr style=\"text-align: right;\">\n",
       "      <th></th>\n",
       "      <th>gateway_uuid</th>\n",
       "      <th>geo_lat</th>\n",
       "      <th>geo_lng</th>\n",
       "    </tr>\n",
       "  </thead>\n",
       "  <tbody>\n",
       "    <tr>\n",
       "      <th>0</th>\n",
       "      <td>4b5788d8-ceac-4c41-a284-845b6cd28f30</td>\n",
       "      <td>51.5258</td>\n",
       "      <td>7.0919</td>\n",
       "    </tr>\n",
       "    <tr>\n",
       "      <th>1</th>\n",
       "      <td>4a449e25-ddbe-49d2-a1fa-4773cd9516e7</td>\n",
       "      <td>52.6072</td>\n",
       "      <td>13.3552</td>\n",
       "    </tr>\n",
       "    <tr>\n",
       "      <th>2</th>\n",
       "      <td>4803ff11-f340-4ce9-a487-0b000dc69d9c</td>\n",
       "      <td>49.6882</td>\n",
       "      <td>7.3514</td>\n",
       "    </tr>\n",
       "    <tr>\n",
       "      <th>3</th>\n",
       "      <td>322d5eaa-bd7d-4c70-af75-57281f9e2380</td>\n",
       "      <td>49.9729</td>\n",
       "      <td>9.1738</td>\n",
       "    </tr>\n",
       "    <tr>\n",
       "      <th>4</th>\n",
       "      <td>3ed28129-8139-4a67-be02-80ecb284e221</td>\n",
       "      <td>50.0164</td>\n",
       "      <td>8.4385</td>\n",
       "    </tr>\n",
       "  </tbody>\n",
       "</table>\n",
       "</div>"
      ],
      "text/plain": [
       "                           gateway_uuid  geo_lat  geo_lng\n",
       "0  4b5788d8-ceac-4c41-a284-845b6cd28f30  51.5258   7.0919\n",
       "1  4a449e25-ddbe-49d2-a1fa-4773cd9516e7  52.6072  13.3552\n",
       "2  4803ff11-f340-4ce9-a487-0b000dc69d9c  49.6882   7.3514\n",
       "3  322d5eaa-bd7d-4c70-af75-57281f9e2380  49.9729   9.1738\n",
       "4  3ed28129-8139-4a67-be02-80ecb284e221  50.0164   8.4385"
      ]
     },
     "execution_count": 76,
     "metadata": {},
     "output_type": "execute_result"
    }
   ],
   "source": [
    "devices.head()"
   ]
  },
  {
   "cell_type": "markdown",
   "metadata": {},
   "source": [
    "## Find real zip codes for geolocations (based on weather data)"
   ]
  },
  {
   "cell_type": "code",
   "execution_count": 77,
   "metadata": {},
   "outputs": [],
   "source": [
    "weather_raw = dd.read_parquet(glob(weather_real_path))"
   ]
  },
  {
   "cell_type": "code",
   "execution_count": null,
   "metadata": {},
   "outputs": [],
   "source": [
    "locations = weather_raw[['zip_code', 'obs_geo_lat', 'obs_geo_lng']]\n",
    "locations['zip_code'] = locations['zip_code'].astype(str)\n",
    "locations['obs_geo_lat'] = locations['obs_geo_lat'].astype(float)\n",
    "locations['obs_geo_lng'] = locations['obs_geo_lng'].astype(float)\n",
    "locations = locations.groupby(['zip_code']).first()\n",
    "locations = locations.reset_index()\n",
    "locations = locations.compute()"
   ]
  },
  {
   "cell_type": "code",
   "execution_count": null,
   "metadata": {},
   "outputs": [],
   "source": [
    "def nearest_zipcode(y):\n",
    "    lat = float(y.geo_lat)\n",
    "    lng = float(y.geo_lng)\n",
    "    def distance(x):\n",
    "        lat1 = float(lat)\n",
    "        lon1 = float(lng)\n",
    "        lat2 = float(x.obs_geo_lat)\n",
    "        lon2 = float(x.obs_geo_lng)\n",
    "        p = math.pi / 180\n",
    "        a = (\n",
    "            0.5 - math.cos((lat2 - lat1) * p) / 2 +\n",
    "            math.cos(lat1 * p) * math.cos(lat2 * p) * (1 - math.cos((lon2 - lon1) * p)) / 2)\n",
    "\n",
    "        return round(2 * 6371 * 1000 * math.asin(math.sqrt(a))) # distance in meters\n",
    "\n",
    "    locations_around = (locations\n",
    "        .where(locations.obs_geo_lat > lat - 0.5)\n",
    "        .where(locations.obs_geo_lat < lat + 0.5)\n",
    "        .where(locations.obs_geo_lng > lng - 0.5)\n",
    "        .where(locations.obs_geo_lng < lng + 0.5)\n",
    "        .dropna()\n",
    "        .reset_index())\n",
    "    \n",
    "    locations_around['distance'] = locations_around.apply(distance, axis=1)\n",
    "    return locations_around.loc[locations_around['distance'].idxmin()]['zip_code']"
   ]
  },
  {
   "cell_type": "code",
   "execution_count": null,
   "metadata": {},
   "outputs": [],
   "source": [
    "ddata = dd.from_pandas(devices, npartitions=number_of_cores)"
   ]
  },
  {
   "cell_type": "code",
   "execution_count": null,
   "metadata": {},
   "outputs": [],
   "source": [
    "devices['zip_code'] = ddata.apply(lambda x: nearest_zipcode(x), meta=('x', str), axis=1).compute()"
   ]
  },
  {
   "cell_type": "code",
   "execution_count": null,
   "metadata": {},
   "outputs": [],
   "source": [
    "devices.head()"
   ]
  },
  {
   "cell_type": "markdown",
   "metadata": {},
   "source": [
    "## Save to parquet file"
   ]
  },
  {
   "cell_type": "code",
   "execution_count": null,
   "metadata": {},
   "outputs": [],
   "source": [
    "devices.to_parquet(fake_devices_with_geolocation_path)"
   ]
  },
  {
   "cell_type": "code",
   "execution_count": null,
   "metadata": {},
   "outputs": [],
   "source": []
  }
 ],
 "metadata": {
  "kernelspec": {
   "display_name": "Python 3",
   "language": "python",
   "name": "python3"
  },
  "language_info": {
   "codemirror_mode": {
    "name": "ipython",
    "version": 3
   },
   "file_extension": ".py",
   "mimetype": "text/x-python",
   "name": "python",
   "nbconvert_exporter": "python",
   "pygments_lexer": "ipython3",
   "version": "3.6.8"
  }
 },
 "nbformat": 4,
 "nbformat_minor": 2
}
