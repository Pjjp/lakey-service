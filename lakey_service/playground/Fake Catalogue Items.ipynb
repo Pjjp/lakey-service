{
 "cells": [
  {
   "cell_type": "code",
   "execution_count": 2,
   "metadata": {},
   "outputs": [],
   "source": [
    "import os\n",
    "import sys\n",
    "\n",
    "sys.path.insert(0, '../')\n",
    "os.environ.setdefault(\"DJANGO_SETTINGS_MODULE\", \"conf.settings\")\n",
    "import django\n",
    "django.setup()"
   ]
  },
  {
   "cell_type": "code",
   "execution_count": 3,
   "metadata": {},
   "outputs": [],
   "source": [
    "from catalogue.models import CatalogueItem"
   ]
  },
  {
   "cell_type": "markdown",
   "metadata": {},
   "source": [
    "# iot.features"
   ]
  },
  {
   "cell_type": "code",
   "execution_count": null,
   "metadata": {
    "scrolled": true
   },
   "outputs": [],
   "source": [
    "# CREATE DATABASE iot;\n",
    "\n",
    "# CREATE EXTERNAL TABLE IF NOT EXISTS iot.features (\n",
    "#   `gateway_uuid` string,\n",
    "#   `timestamp` string,\n",
    "#   `property` string,\n",
    "#   `value` double \n",
    "# ) PARTITIONED BY (\n",
    "#   month int,\n",
    "#   day int \n",
    "# )\n",
    "# ROW FORMAT SERDE 'org.apache.hadoop.hive.ql.io.parquet.serde.ParquetHiveSerDe'\n",
    "# WITH SERDEPROPERTIES (\n",
    "#   'serialization.format' = '1'\n",
    "# ) LOCATION 's3://lakey/tables/features/'\n",
    "# TBLPROPERTIES ('has_encrypted_data'='false');\n",
    "\n",
    "# MSCK REPAIR TABLE iot.features;"
   ]
  },
  {
   "cell_type": "code",
   "execution_count": 9,
   "metadata": {},
   "outputs": [],
   "source": [
    "ct = CatalogueItem.objects.create(\n",
    "    name='iot.features',\n",
    "    executor_type='ATHENA',\n",
    "    spec=[\n",
    "        {\n",
    "            'name': 'gateway_uuid',\n",
    "            'type': 'STRING',\n",
    "            'is_enum': False,\n",
    "            'size': None,\n",
    "            'is_nullable': False,\n",
    "            'distribution': None,\n",
    "        },\n",
    "        {\n",
    "            'name': 'timestamp',\n",
    "            'type': 'DATETIME',\n",
    "            'is_enum': False,\n",
    "            'size': None,\n",
    "            'is_nullable': False,\n",
    "            'distribution': None,                     \n",
    "        },\n",
    "        {\n",
    "            'name': 'property',\n",
    "            'type': 'STRING',\n",
    "            'is_enum': False,\n",
    "            'size': None,\n",
    "            'is_nullable': False,\n",
    "            'distribution': None,\n",
    "        },        \n",
    "        {\n",
    "            'name': 'value',\n",
    "            'type': 'FLOAT',\n",
    "            'is_enum': False,\n",
    "            'size': None,\n",
    "            'is_nullable': False,\n",
    "            'distribution': None,\n",
    "        },     \n",
    "        {\n",
    "            'name': 'month',\n",
    "            'type': 'INTEGER',\n",
    "            'is_enum': False,\n",
    "            'size': None,\n",
    "            'is_nullable': False,\n",
    "            'distribution': None,\n",
    "        }, \n",
    "        {\n",
    "            'name': 'day',\n",
    "            'type': 'INTEGER',\n",
    "            'is_enum': False,\n",
    "            'size': None,\n",
    "            'is_nullable': False,\n",
    "            'distribution': None,\n",
    "        },         \n",
    "    ])"
   ]
  },
  {
   "cell_type": "markdown",
   "metadata": {},
   "source": [
    "# iot.devices"
   ]
  },
  {
   "cell_type": "code",
   "execution_count": 12,
   "metadata": {},
   "outputs": [
    {
     "data": {
      "text/plain": [
       "<CatalogueItem: CatalogueItem object (3)>"
      ]
     },
     "execution_count": 12,
     "metadata": {},
     "output_type": "execute_result"
    }
   ],
   "source": [
    "ct = CatalogueItem.objects.create(\n",
    "    name='iot.devices',\n",
    "    executor_type='ATHENA',\n",
    "    spec=[\n",
    "        {\n",
    "            'name': 'gateway_uuid',\n",
    "            'type': 'STRING',\n",
    "            'is_enum': False,\n",
    "            'size': None,\n",
    "            'is_nullable': False,\n",
    "            'distribution': None,\n",
    "        },\n",
    "        {\n",
    "            'name': 'geo_lat',\n",
    "            'type': 'FLOAT',\n",
    "            'is_enum': False,\n",
    "            'size': None,\n",
    "            'is_nullable': False,\n",
    "            'distribution': None,                     \n",
    "        },\n",
    "        {\n",
    "            'name': 'geo_lng',\n",
    "            'type': 'FLOAT',\n",
    "            'is_enum': False,\n",
    "            'size': None,\n",
    "            'is_nullable': False,\n",
    "            'distribution': None,\n",
    "        },        \n",
    "        {\n",
    "            'name': 'zip_code',\n",
    "            'type': 'STRING',\n",
    "            'is_enum': False,\n",
    "            'size': None,\n",
    "            'is_nullable': False,\n",
    "            'distribution': None,\n",
    "        },            \n",
    "    ])\n",
    "ct"
   ]
  },
  {
   "cell_type": "markdown",
   "metadata": {},
   "source": [
    "# external.weather"
   ]
  },
  {
   "cell_type": "code",
   "execution_count": 14,
   "metadata": {},
   "outputs": [
    {
     "data": {
      "text/plain": [
       "<CatalogueItem: CatalogueItem object (4)>"
      ]
     },
     "execution_count": 14,
     "metadata": {},
     "output_type": "execute_result"
    }
   ],
   "source": [
    "ct = CatalogueItem.objects.create(\n",
    "    name='external.weather',\n",
    "    executor_type='ATHENA',\n",
    "    spec=[\n",
    "        {\n",
    "            'name': 'zip_code',\n",
    "            'type': 'STRING',\n",
    "            'is_enum': False,\n",
    "            'size': None,\n",
    "            'is_nullable': False,\n",
    "            'distribution': None,\n",
    "        },\n",
    "        {\n",
    "            'name': 'obs_geo_lat',\n",
    "            'type': 'FLOAT',\n",
    "            'is_enum': False,\n",
    "            'size': None,\n",
    "            'is_nullable': False,\n",
    "            'distribution': None,                     \n",
    "        },\n",
    "        {\n",
    "            'name': 'obs_geo_lng',\n",
    "            'type': 'FLOAT',\n",
    "            'is_enum': False,\n",
    "            'size': None,\n",
    "            'is_nullable': False,\n",
    "            'distribution': None,\n",
    "        },        \n",
    "        {\n",
    "            'name': 'obs_name',\n",
    "            'type': 'STRING',\n",
    "            'is_enum': False,\n",
    "            'size': None,\n",
    "            'is_nullable': False,\n",
    "            'distribution': None,\n",
    "        },     \n",
    "        {\n",
    "            'name': 'timestamp',\n",
    "            'type': 'DATETIME',\n",
    "            'is_enum': False,\n",
    "            'size': None,\n",
    "            'is_nullable': False,\n",
    "            'distribution': None,\n",
    "        },  \n",
    "        {\n",
    "            'name': 'temp',\n",
    "            'type': 'FLOAT',\n",
    "            'is_enum': False,\n",
    "            'size': None,\n",
    "            'is_nullable': False,\n",
    "            'distribution': None,\n",
    "        },                  \n",
    "    ])\n",
    "ct"
   ]
  },
  {
   "cell_type": "markdown",
   "metadata": {},
   "source": [
    "# sap.sales"
   ]
  },
  {
   "cell_type": "code",
   "execution_count": 15,
   "metadata": {},
   "outputs": [
    {
     "data": {
      "text/plain": [
       "<CatalogueItem: CatalogueItem object (5)>"
      ]
     },
     "execution_count": 15,
     "metadata": {},
     "output_type": "execute_result"
    }
   ],
   "source": [
    "ct = CatalogueItem.objects.create(\n",
    "    name='sap.sales',\n",
    "    executor_type='ATHENA',\n",
    "    spec=[\n",
    "        {\n",
    "            'name': 'product',\n",
    "            'type': 'STRING',\n",
    "            'is_enum': False,\n",
    "            'size': None,\n",
    "            'is_nullable': False,\n",
    "            'distribution': None,\n",
    "        },\n",
    "        {\n",
    "            'name': 'obs_geo_lat',\n",
    "            'type': 'FLOAT',\n",
    "            'is_enum': False,\n",
    "            'size': None,\n",
    "            'is_nullable': False,\n",
    "            'distribution': None,                     \n",
    "        },\n",
    "        {\n",
    "            'name': 'client_id',\n",
    "            'type': 'INTEGER',\n",
    "            'is_enum': False,\n",
    "            'size': None,\n",
    "            'is_nullable': False,\n",
    "            'distribution': None,\n",
    "        },           \n",
    "        {\n",
    "            'name': 'sold_datetime',\n",
    "            'type': 'DATETIME',\n",
    "            'is_enum': False,\n",
    "            'size': None,\n",
    "            'is_nullable': False,\n",
    "            'distribution': None,\n",
    "        },                \n",
    "    ])\n",
    "ct"
   ]
  },
  {
   "cell_type": "markdown",
   "metadata": {},
   "source": [
    "# sap.client"
   ]
  },
  {
   "cell_type": "code",
   "execution_count": 16,
   "metadata": {},
   "outputs": [
    {
     "data": {
      "text/plain": [
       "<CatalogueItem: CatalogueItem object (6)>"
      ]
     },
     "execution_count": 16,
     "metadata": {},
     "output_type": "execute_result"
    }
   ],
   "source": [
    "ct = CatalogueItem.objects.create(\n",
    "    name='sap.client',\n",
    "    executor_type='ATHENA',\n",
    "    spec=[\n",
    "        {\n",
    "            'name': 'name',\n",
    "            'type': 'STRING',\n",
    "            'is_enum': False,\n",
    "            'size': None,\n",
    "            'is_nullable': False,\n",
    "            'distribution': None,\n",
    "        },\n",
    "        {\n",
    "            'name': 'client_id',\n",
    "            'type': 'INTEGER',\n",
    "            'is_enum': False,\n",
    "            'size': None,\n",
    "            'is_nullable': False,\n",
    "            'distribution': None,                     \n",
    "        },\n",
    "        {\n",
    "            'name': 'sap_id',\n",
    "            'type': 'INTEGER',\n",
    "            'is_enum': False,\n",
    "            'size': None,\n",
    "            'is_nullable': False,\n",
    "            'distribution': None,\n",
    "        },                     \n",
    "    ])\n",
    "ct"
   ]
  },
  {
   "cell_type": "markdown",
   "metadata": {},
   "source": [
    "# google_analytics.website_stats"
   ]
  },
  {
   "cell_type": "code",
   "execution_count": 17,
   "metadata": {},
   "outputs": [
    {
     "data": {
      "text/plain": [
       "<CatalogueItem: CatalogueItem object (7)>"
      ]
     },
     "execution_count": 17,
     "metadata": {},
     "output_type": "execute_result"
    }
   ],
   "source": [
    "ct = CatalogueItem.objects.create(\n",
    "    name='google_analytics.website_stats',\n",
    "    executor_type='ATHENA',\n",
    "    spec=[\n",
    "        {\n",
    "            'name': 'url',\n",
    "            'type': 'STRING',\n",
    "            'is_enum': False,\n",
    "            'size': None,\n",
    "            'is_nullable': False,\n",
    "            'distribution': None,\n",
    "        },\n",
    "        {\n",
    "            'name': 'click_element',\n",
    "            'type': 'STRING',\n",
    "            'is_enum': False,\n",
    "            'size': None,\n",
    "            'is_nullable': False,\n",
    "            'distribution': None,                     \n",
    "        },\n",
    "        {\n",
    "            'name': 'click_datetime',\n",
    "            'type': 'DATETIME',\n",
    "            'is_enum': False,\n",
    "            'size': None,\n",
    "            'is_nullable': False,\n",
    "            'distribution': None,\n",
    "        },                     \n",
    "    ])\n",
    "ct"
   ]
  }
 ],
 "metadata": {
  "kernelspec": {
   "display_name": "Python 3",
   "language": "python",
   "name": "python3"
  },
  "language_info": {
   "codemirror_mode": {
    "name": "ipython",
    "version": 3
   },
   "file_extension": ".py",
   "mimetype": "text/x-python",
   "name": "python",
   "nbconvert_exporter": "python",
   "pygments_lexer": "ipython3",
   "version": "3.6.5"
  }
 },
 "nbformat": 4,
 "nbformat_minor": 2
}
