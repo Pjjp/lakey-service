{
 "cells": [
  {
   "cell_type": "code",
   "execution_count": 5,
   "metadata": {},
   "outputs": [],
   "source": [
    "import boto3\n",
    "import requests"
   ]
  },
  {
   "cell_type": "markdown",
   "metadata": {},
   "source": [
    "## Getting access token"
   ]
  },
  {
   "cell_type": "markdown",
   "metadata": {},
   "source": [
    "run in terminal\n",
    "\n",
    "```bash\n",
    "source env.sh\n",
    "python lakey_service/manage.py create_account --type ADMIN <here_put_you_email>\n",
    "python lakey_service/manage.py create_auth_token <here_put_you_email>\n",
    "```"
   ]
  },
  {
   "cell_type": "code",
   "execution_count": 8,
   "metadata": {},
   "outputs": [],
   "source": [
    "access_token = (\n",
    "    'eyJ0eXAiOiJKV1QiLCJhbGciOiJIUzI1NiJ9.eyJpZCI6MiwiZW1haWwiOiJtYWNpZWpAY29zcGh'\n",
    "    'lcmUub3JnIiwidHlwZSI6IkFETUlOIiwiZXhwIjoxNTU2MzEzMjI1fQ.ncutBBeSPMjWDX6BDAdU'\n",
    "    'CXmcRSYFRsysPAySt0w79WI')"
   ]
  },
  {
   "cell_type": "markdown",
   "metadata": {},
   "source": [
    "## Create Catalogue Item"
   ]
  },
  {
   "cell_type": "code",
   "execution_count": 19,
   "metadata": {},
   "outputs": [],
   "source": [
    "response = requests.post(\n",
    "    'http://localhost:8887/catalogue/items/',\n",
    "    json={\n",
    "        'name': 'lakey.shopping',\n",
    "        'maintained_by_id': 1,\n",
    "        'executor_type': 'ATHENA',        \n",
    "        'spec': [\n",
    "            {\n",
    "                'name': 'email',\n",
    "                'type': 'STRING',\n",
    "                'size': None,\n",
    "                'is_nullable': False,\n",
    "                'distribution': None,\n",
    "            },\n",
    "            {\n",
    "                'name': 'name',\n",
    "                'type': 'STRING',\n",
    "                'size': None,\n",
    "                'is_nullable': False,\n",
    "                'distribution': None,\n",
    "            },\n",
    "            {\n",
    "                'name': 'price',\n",
    "                'type': 'FLOAT',\n",
    "                'size': None,\n",
    "                'is_nullable': False,\n",
    "                'distribution': None,\n",
    "            }, \n",
    "            {\n",
    "                'name': 'quantity',\n",
    "                'type': 'INTEGER',\n",
    "                'size': None,\n",
    "                'is_nullable': False,\n",
    "                'distribution': None,\n",
    "            },             \n",
    "        ]\n",
    "    },\n",
    "    headers={'Authorization': f'Bearer {access_token}'})\n",
    "\n",
    "response"
   ]
  },
  {
   "cell_type": "code",
   "execution_count": 21,
   "metadata": {},
   "outputs": [
    {
     "data": {
      "text/plain": [
       "{'items': [{'id': 1,\n",
       "   'name': 'lakey.shopping',\n",
       "   'spec': [{'name': 'email',\n",
       "     'size': None,\n",
       "     'type': 'STRING',\n",
       "     'is_nullable': False,\n",
       "     'distribution': None},\n",
       "    {'name': 'name',\n",
       "     'size': None,\n",
       "     'type': 'STRING',\n",
       "     'is_nullable': False,\n",
       "     'distribution': None},\n",
       "    {'name': 'price',\n",
       "     'size': None,\n",
       "     'type': 'FLOAT',\n",
       "     'is_nullable': False,\n",
       "     'distribution': None},\n",
       "    {'name': 'quantity',\n",
       "     'size': None,\n",
       "     'type': 'INTEGER',\n",
       "     'is_nullable': False,\n",
       "     'distribution': None}],\n",
       "   'sample': [],\n",
       "   'executor_type': 'ATHENA',\n",
       "   'created_by': {'id': 2,\n",
       "    'email': 'maciej@cosphere.org',\n",
       "    'type': 'ADMIN',\n",
       "    '@type': 'account'},\n",
       "   'updated_by': {'id': 2,\n",
       "    'email': 'maciej@cosphere.org',\n",
       "    'type': 'ADMIN',\n",
       "    '@type': 'account'},\n",
       "   'maintained_by': {'id': 1,\n",
       "    'email': 'sbcm@viessmann.com',\n",
       "    'type': 'ADMIN',\n",
       "    '@type': 'account'},\n",
       "   '@type': 'catalogue_item'}],\n",
       " '@type': 'catalogue_items_list',\n",
       " '@event': 'CATALOGUEITEMS_BULK_READ'}"
      ]
     },
     "execution_count": 21,
     "metadata": {},
     "output_type": "execute_result"
    }
   ],
   "source": [
    "response = requests.get(\n",
    "    'http://localhost:8887/catalogue/items/',\n",
    "    headers={'Authorization': f'Bearer {access_token}'})\n",
    "\n",
    "response.json()"
   ]
  },
  {
   "cell_type": "markdown",
   "metadata": {},
   "source": [
    "## Create Download Request"
   ]
  },
  {
   "cell_type": "code",
   "execution_count": null,
   "metadata": {},
   "outputs": [],
   "source": []
  },
  {
   "cell_type": "markdown",
   "metadata": {},
   "source": [
    "## Download data locally (this should happend in Lakey UI)"
   ]
  },
  {
   "cell_type": "code",
   "execution_count": null,
   "metadata": {},
   "outputs": [],
   "source": [
    "requests.get()\n"
   ]
  }
 ],
 "metadata": {
  "kernelspec": {
   "display_name": "Python 3",
   "language": "python",
   "name": "python3"
  },
  "language_info": {
   "codemirror_mode": {
    "name": "ipython",
    "version": 3
   },
   "file_extension": ".py",
   "mimetype": "text/x-python",
   "name": "python",
   "nbconvert_exporter": "python",
   "pygments_lexer": "ipython3",
   "version": "3.6.5"
  }
 },
 "nbformat": 4,
 "nbformat_minor": 2
}
