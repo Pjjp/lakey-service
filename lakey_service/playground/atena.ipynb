{
 "cells": [
  {
   "cell_type": "code",
   "execution_count": 4,
   "metadata": {},
   "outputs": [],
   "source": [
    "import random\n",
    "import os\n",
    "\n",
    "import pandas as pd\n",
    "import boto3\n",
    "from faker import Faker\n",
    "\n",
    "\n",
    "faker = Faker()"
   ]
  },
  {
   "cell_type": "markdown",
   "metadata": {},
   "source": [
    "## GENERATE SAMPLE DATA"
   ]
  },
  {
   "cell_type": "code",
   "execution_count": 12,
   "metadata": {},
   "outputs": [
    {
     "data": {
      "text/html": [
       "<div>\n",
       "<style scoped>\n",
       "    .dataframe tbody tr th:only-of-type {\n",
       "        vertical-align: middle;\n",
       "    }\n",
       "\n",
       "    .dataframe tbody tr th {\n",
       "        vertical-align: top;\n",
       "    }\n",
       "\n",
       "    .dataframe thead th {\n",
       "        text-align: right;\n",
       "    }\n",
       "</style>\n",
       "<table border=\"1\" class=\"dataframe\">\n",
       "  <thead>\n",
       "    <tr style=\"text-align: right;\">\n",
       "      <th></th>\n",
       "      <th>email</th>\n",
       "      <th>name</th>\n",
       "      <th>price</th>\n",
       "      <th>quantity</th>\n",
       "    </tr>\n",
       "  </thead>\n",
       "  <tbody>\n",
       "    <tr>\n",
       "      <th>0</th>\n",
       "      <td>dylanfunk@gmail.com</td>\n",
       "      <td>Damarion Bahringer</td>\n",
       "      <td>910.72</td>\n",
       "      <td>9</td>\n",
       "    </tr>\n",
       "    <tr>\n",
       "      <th>1</th>\n",
       "      <td>loraadams@hotmail.com</td>\n",
       "      <td>Nikki Aufderhar</td>\n",
       "      <td>254.71</td>\n",
       "      <td>2</td>\n",
       "    </tr>\n",
       "    <tr>\n",
       "      <th>2</th>\n",
       "      <td>dayleglover@braun.com</td>\n",
       "      <td>Mrs. Mikayla Vandervort</td>\n",
       "      <td>377.93</td>\n",
       "      <td>2</td>\n",
       "    </tr>\n",
       "    <tr>\n",
       "      <th>3</th>\n",
       "      <td>kinseydubuque@gmail.com</td>\n",
       "      <td>Mrs. Tisha Aufderhar</td>\n",
       "      <td>104.15</td>\n",
       "      <td>6</td>\n",
       "    </tr>\n",
       "    <tr>\n",
       "      <th>4</th>\n",
       "      <td>eziemann@kub.com</td>\n",
       "      <td>Portia Kunde</td>\n",
       "      <td>285.58</td>\n",
       "      <td>3</td>\n",
       "    </tr>\n",
       "  </tbody>\n",
       "</table>\n",
       "</div>"
      ],
      "text/plain": [
       "                     email                     name   price  quantity\n",
       "0      dylanfunk@gmail.com       Damarion Bahringer  910.72         9\n",
       "1    loraadams@hotmail.com          Nikki Aufderhar  254.71         2\n",
       "2    dayleglover@braun.com  Mrs. Mikayla Vandervort  377.93         2\n",
       "3  kinseydubuque@gmail.com     Mrs. Tisha Aufderhar  104.15         6\n",
       "4         eziemann@kub.com             Portia Kunde  285.58         3"
      ]
     },
     "execution_count": 12,
     "metadata": {},
     "output_type": "execute_result"
    }
   ],
   "source": [
    "df = pd.DataFrame([\n",
    "    {\n",
    "        'price': round(1000 * random.random(), 2),\n",
    "        'name': faker.name(),\n",
    "        'email': faker.email(),\n",
    "        'quantity': random.randint(1, 10),\n",
    "    }\n",
    "    for i in range(0, 10 ** 5)\n",
    "])\n",
    "df.head(5)"
   ]
  },
  {
   "cell_type": "code",
   "execution_count": 13,
   "metadata": {},
   "outputs": [],
   "source": [
    "df.to_csv('./shopping_1.csv', index=False)"
   ]
  },
  {
   "cell_type": "markdown",
   "metadata": {},
   "source": [
    "## ATHENA create tables "
   ]
  },
  {
   "cell_type": "code",
   "execution_count": null,
   "metadata": {},
   "outputs": [],
   "source": [
    "# CREATE EXTERNAL TABLE IF NOT EXISTS lakey.shopping (\n",
    "#   `email` string,\n",
    "#   `name` string,\n",
    "#   `price` float,\n",
    "#   `quantity` int \n",
    "# )\n",
    "# ROW FORMAT SERDE 'org.apache.hadoop.hive.serde2.lazy.LazySimpleSerDe'\n",
    "# WITH SERDEPROPERTIES (\n",
    "#   'serialization.format' = ',',\n",
    "#   'field.delim' = ','\n",
    "# ) LOCATION 's3://lakey/tables/shopping/'\n",
    "# TBLPROPERTIES ('has_encrypted_data'='false');"
   ]
  },
  {
   "cell_type": "markdown",
   "metadata": {},
   "source": [
    "## Connect with ATHENA and Query"
   ]
  },
  {
   "cell_type": "code",
   "execution_count": 18,
   "metadata": {},
   "outputs": [],
   "source": [
    "athena = boto3.client(\n",
    "    'athena',\n",
    "    aws_access_key_id=os.environ['AWS_S3_KEY_ID'],\n",
    "    aws_secret_access_key=os.environ['AWS_S3_KEY_SECRET'])"
   ]
  },
  {
   "cell_type": "code",
   "execution_count": 12,
   "metadata": {},
   "outputs": [],
   "source": [
    "s3 = boto3.client(\n",
    "    's3',\n",
    "    aws_access_key_id=os.environ['AWS_S3_KEY_ID'],\n",
    "    aws_secret_access_key=os.environ['AWS_S3_KEY_SECRET'])"
   ]
  },
  {
   "cell_type": "code",
   "execution_count": 22,
   "metadata": {},
   "outputs": [],
   "source": [
    "response = athena.start_query_execution(\n",
    "    QueryString='SELECT * FROM shopping where quantity > 3;',\n",
    "    QueryExecutionContext={\n",
    "      'Database': 'lakey'\n",
    "    },\n",
    "    ResultConfiguration={\n",
    "      'OutputLocation': 's3://lakey/results/',\n",
    "    })\n"
   ]
  },
  {
   "cell_type": "code",
   "execution_count": 23,
   "metadata": {},
   "outputs": [
    {
     "data": {
      "text/plain": [
       "{'QueryExecutionId': 'cd471422-ef8f-484f-801a-2c7f52f47d3b',\n",
       " 'ResponseMetadata': {'RequestId': 'e3fc6ba8-fa82-4964-b6f7-2637b5fe0174',\n",
       "  'HTTPStatusCode': 200,\n",
       "  'HTTPHeaders': {'content-type': 'application/x-amz-json-1.1',\n",
       "   'date': 'Thu, 25 Apr 2019 20:14:55 GMT',\n",
       "   'x-amzn-requestid': 'e3fc6ba8-fa82-4964-b6f7-2637b5fe0174',\n",
       "   'content-length': '59',\n",
       "   'connection': 'keep-alive'},\n",
       "  'RetryAttempts': 0}}"
      ]
     },
     "execution_count": 23,
     "metadata": {},
     "output_type": "execute_result"
    }
   ],
   "source": [
    "response"
   ]
  },
  {
   "cell_type": "code",
   "execution_count": 24,
   "metadata": {},
   "outputs": [],
   "source": [
    "s3.download_file('lakey', 'results/cd471422-ef8f-484f-801a-2c7f52f47d3b.csv', './results.csv')\n",
    "# response['QueryExecutionId']"
   ]
  },
  {
   "cell_type": "code",
   "execution_count": 16,
   "metadata": {},
   "outputs": [
    {
     "name": "stdout",
     "output_type": "stream",
     "text": [
      "atena.ipynb  results.csv  shopping_0.csv  shopping_1.csv\r\n"
     ]
    }
   ],
   "source": []
  }
 ],
 "metadata": {
  "kernelspec": {
   "display_name": "Python 3",
   "language": "python",
   "name": "python3"
  },
  "language_info": {
   "codemirror_mode": {
    "name": "ipython",
    "version": 3
   },
   "file_extension": ".py",
   "mimetype": "text/x-python",
   "name": "python",
   "nbconvert_exporter": "python",
   "pygments_lexer": "ipython3",
   "version": "3.6.5"
  }
 },
 "nbformat": 4,
 "nbformat_minor": 2
}
