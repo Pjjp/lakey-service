{
 "cells": [
  {
   "cell_type": "code",
   "execution_count": 1,
   "metadata": {},
   "outputs": [],
   "source": [
    "import random\n",
    "import os\n",
    "\n",
    "import pandas as pd\n",
    "import boto3\n",
    "from faker import Faker\n",
    "\n",
    "\n",
    "faker = Faker()"
   ]
  },
  {
   "cell_type": "markdown",
   "metadata": {},
   "source": [
    "## GENERATE SAMPLE DATA"
   ]
  },
  {
   "cell_type": "code",
   "execution_count": 12,
   "metadata": {},
   "outputs": [
    {
     "data": {
      "text/html": [
       "<div>\n",
       "<style scoped>\n",
       "    .dataframe tbody tr th:only-of-type {\n",
       "        vertical-align: middle;\n",
       "    }\n",
       "\n",
       "    .dataframe tbody tr th {\n",
       "        vertical-align: top;\n",
       "    }\n",
       "\n",
       "    .dataframe thead th {\n",
       "        text-align: right;\n",
       "    }\n",
       "</style>\n",
       "<table border=\"1\" class=\"dataframe\">\n",
       "  <thead>\n",
       "    <tr style=\"text-align: right;\">\n",
       "      <th></th>\n",
       "      <th>email</th>\n",
       "      <th>name</th>\n",
       "      <th>price</th>\n",
       "      <th>quantity</th>\n",
       "    </tr>\n",
       "  </thead>\n",
       "  <tbody>\n",
       "    <tr>\n",
       "      <th>0</th>\n",
       "      <td>dylanfunk@gmail.com</td>\n",
       "      <td>Damarion Bahringer</td>\n",
       "      <td>910.72</td>\n",
       "      <td>9</td>\n",
       "    </tr>\n",
       "    <tr>\n",
       "      <th>1</th>\n",
       "      <td>loraadams@hotmail.com</td>\n",
       "      <td>Nikki Aufderhar</td>\n",
       "      <td>254.71</td>\n",
       "      <td>2</td>\n",
       "    </tr>\n",
       "    <tr>\n",
       "      <th>2</th>\n",
       "      <td>dayleglover@braun.com</td>\n",
       "      <td>Mrs. Mikayla Vandervort</td>\n",
       "      <td>377.93</td>\n",
       "      <td>2</td>\n",
       "    </tr>\n",
       "    <tr>\n",
       "      <th>3</th>\n",
       "      <td>kinseydubuque@gmail.com</td>\n",
       "      <td>Mrs. Tisha Aufderhar</td>\n",
       "      <td>104.15</td>\n",
       "      <td>6</td>\n",
       "    </tr>\n",
       "    <tr>\n",
       "      <th>4</th>\n",
       "      <td>eziemann@kub.com</td>\n",
       "      <td>Portia Kunde</td>\n",
       "      <td>285.58</td>\n",
       "      <td>3</td>\n",
       "    </tr>\n",
       "  </tbody>\n",
       "</table>\n",
       "</div>"
      ],
      "text/plain": [
       "                     email                     name   price  quantity\n",
       "0      dylanfunk@gmail.com       Damarion Bahringer  910.72         9\n",
       "1    loraadams@hotmail.com          Nikki Aufderhar  254.71         2\n",
       "2    dayleglover@braun.com  Mrs. Mikayla Vandervort  377.93         2\n",
       "3  kinseydubuque@gmail.com     Mrs. Tisha Aufderhar  104.15         6\n",
       "4         eziemann@kub.com             Portia Kunde  285.58         3"
      ]
     },
     "execution_count": 12,
     "metadata": {},
     "output_type": "execute_result"
    }
   ],
   "source": [
    "df = pd.DataFrame([\n",
    "    {\n",
    "        'price': round(1000 * random.random(), 2),\n",
    "        'name': faker.name(),\n",
    "        'email': faker.email(),\n",
    "        'quantity': random.randint(1, 10),\n",
    "    }\n",
    "    for i in range(0, 10 ** 5)\n",
    "])\n",
    "df.head(5)"
   ]
  },
  {
   "cell_type": "code",
   "execution_count": 13,
   "metadata": {},
   "outputs": [],
   "source": [
    "df.to_csv('./shopping_1.csv', index=False)"
   ]
  },
  {
   "cell_type": "markdown",
   "metadata": {},
   "source": [
    "## ATHENA create tables "
   ]
  },
  {
   "cell_type": "code",
   "execution_count": null,
   "metadata": {},
   "outputs": [],
   "source": [
    "# CREATE EXTERNAL TABLE IF NOT EXISTS lakey.shopping (\n",
    "#   `email` string,\n",
    "#   `name` string,\n",
    "#   `price` float,\n",
    "#   `quantity` int \n",
    "# )\n",
    "# ROW FORMAT SERDE 'org.apache.hadoop.hive.serde2.lazy.LazySimpleSerDe'\n",
    "# WITH SERDEPROPERTIES (\n",
    "#   'serialization.format' = ',',\n",
    "#   'field.delim' = ','\n",
    "# ) LOCATION 's3://lakey/tables/shopping/'\n",
    "# TBLPROPERTIES ('has_encrypted_data'='false');"
   ]
  },
  {
   "cell_type": "markdown",
   "metadata": {},
   "source": [
    "## Connect with ATHENA and Query"
   ]
  },
  {
   "cell_type": "code",
   "execution_count": 2,
   "metadata": {},
   "outputs": [],
   "source": [
    "athena = boto3.client(\n",
    "    'athena',\n",
    "    region_name=os.environ['AWS_LAKEY_REGION'],\n",
    "    aws_access_key_id=os.environ['AWS_S3_KEY_ID'],\n",
    "    aws_secret_access_key=os.environ['AWS_S3_KEY_SECRET'])"
   ]
  },
  {
   "cell_type": "code",
   "execution_count": 3,
   "metadata": {},
   "outputs": [],
   "source": [
    "s3 = boto3.client(\n",
    "    's3',\n",
    "    region_name=os.environ['AWS_LAKEY_REGION'],\n",
    "    aws_access_key_id=os.environ['AWS_S3_KEY_ID'],\n",
    "    aws_secret_access_key=os.environ['AWS_S3_KEY_SECRET'])"
   ]
  },
  {
   "cell_type": "code",
   "execution_count": 22,
   "metadata": {},
   "outputs": [],
   "source": [
    "response = athena.start_query_execution(\n",
    "    QueryString='SELECT * FROM shopping where quantity > 3;',\n",
    "    QueryExecutionContext={\n",
    "      'Database': 'lakey'\n",
    "    },\n",
    "    ResultConfiguration={\n",
    "      'OutputLocation': 's3://lakey/results/',\n",
    "    })"
   ]
  },
  {
   "cell_type": "code",
   "execution_count": 23,
   "metadata": {},
   "outputs": [
    {
     "data": {
      "text/plain": [
       "{'QueryExecutionId': 'cd471422-ef8f-484f-801a-2c7f52f47d3b',\n",
       " 'ResponseMetadata': {'RequestId': 'e3fc6ba8-fa82-4964-b6f7-2637b5fe0174',\n",
       "  'HTTPStatusCode': 200,\n",
       "  'HTTPHeaders': {'content-type': 'application/x-amz-json-1.1',\n",
       "   'date': 'Thu, 25 Apr 2019 20:14:55 GMT',\n",
       "   'x-amzn-requestid': 'e3fc6ba8-fa82-4964-b6f7-2637b5fe0174',\n",
       "   'content-length': '59',\n",
       "   'connection': 'keep-alive'},\n",
       "  'RetryAttempts': 0}}"
      ]
     },
     "execution_count": 23,
     "metadata": {},
     "output_type": "execute_result"
    }
   ],
   "source": [
    "response"
   ]
  },
  {
   "cell_type": "code",
   "execution_count": 24,
   "metadata": {},
   "outputs": [],
   "source": [
    "s3.download_file('lakey', 'results/cd471422-ef8f-484f-801a-2c7f52f47d3b.csv', './results.csv')\n",
    "# response['QueryExecutionId']"
   ]
  },
  {
   "cell_type": "code",
   "execution_count": 10,
   "metadata": {},
   "outputs": [
    {
     "data": {
      "text/plain": [
       "{'ResponseMetadata': {'RequestId': '87A9C9A2DBDFC4A1',\n",
       "  'HostId': 'E74VKux7dTPx4m1YMyhK3PTpAWMraV7mgKUlIRl7mw7dnnf1zxaJ17AgzFZQdRVs/sJJwWhsZZE=',\n",
       "  'HTTPStatusCode': 200,\n",
       "  'HTTPHeaders': {'x-amz-id-2': 'E74VKux7dTPx4m1YMyhK3PTpAWMraV7mgKUlIRl7mw7dnnf1zxaJ17AgzFZQdRVs/sJJwWhsZZE=',\n",
       "   'x-amz-request-id': '87A9C9A2DBDFC4A1',\n",
       "   'date': 'Fri, 26 Apr 2019 09:44:25 GMT',\n",
       "   'etag': '\"d41d8cd98f00b204e9800998ecf8427e\"',\n",
       "   'content-length': '0',\n",
       "   'server': 'AmazonS3'},\n",
       "  'RetryAttempts': 0},\n",
       " 'ETag': '\"d41d8cd98f00b204e9800998ecf8427e\"'}"
      ]
     },
     "execution_count": 10,
     "metadata": {},
     "output_type": "execute_result"
    }
   ],
   "source": [
    "s3.put_object(\n",
    "    Key='/results/dc5f60c4-881d-4390-89b2-555cd9999e27.csv',\n",
    "    Bucket='lakey',\n",
    "    ACL='public-read')"
   ]
  },
  {
   "cell_type": "code",
   "execution_count": 9,
   "metadata": {},
   "outputs": [
    {
     "data": {
      "text/plain": [
       "{'ResponseMetadata': {'RequestId': '680CFD4A6793DFE0',\n",
       "  'HostId': 'Fd39564EkHL6kwhs9fKZU3tbFkwmoGt9KaNWBV1nDxvEVrPRIpx90nD1gLCulHnI++czSCSAgxU=',\n",
       "  'HTTPStatusCode': 200,\n",
       "  'HTTPHeaders': {'x-amz-id-2': 'Fd39564EkHL6kwhs9fKZU3tbFkwmoGt9KaNWBV1nDxvEVrPRIpx90nD1gLCulHnI++czSCSAgxU=',\n",
       "   'x-amz-request-id': '680CFD4A6793DFE0',\n",
       "   'date': 'Fri, 26 Apr 2019 09:39:45 GMT',\n",
       "   'content-type': 'application/xml',\n",
       "   'transfer-encoding': 'chunked',\n",
       "   'server': 'AmazonS3'},\n",
       "  'RetryAttempts': 0},\n",
       " 'Owner': {'ID': '3f574f8158d7a806f65506cd2d420f9f1f411f5dd67a6d444c09a8ad624125f0'},\n",
       " 'Grants': [{'Grantee': {'ID': '3f574f8158d7a806f65506cd2d420f9f1f411f5dd67a6d444c09a8ad624125f0',\n",
       "    'Type': 'CanonicalUser'},\n",
       "   'Permission': 'FULL_CONTROL'},\n",
       "  {'Grantee': {'Type': 'Group',\n",
       "    'URI': 'http://acs.amazonaws.com/groups/global/AllUsers'},\n",
       "   'Permission': 'READ'}]}"
      ]
     },
     "execution_count": 9,
     "metadata": {},
     "output_type": "execute_result"
    }
   ],
   "source": [
    "s3.get_object_acl(\n",
    "    Key='/results/dc5f60c4-881d-4390-89b2-555cd9999e27.csv',\n",
    "    Bucket='lakey')"
   ]
  },
  {
   "cell_type": "code",
   "execution_count": null,
   "metadata": {},
   "outputs": [],
   "source": [
    "{'ResponseMetadata': {'RequestId': 'BE5EF245147D9544',\n",
    "  'HostId': 'Xx/trl9/shIYM2B3RJfhbT9mD6Io12i0tb3bHWZWVIz96w4ktS9Y0ATVzQMnoi2R1kMDRxK9bZc=',\n",
    "  'HTTPStatusCode': 200,\n",
    "  'HTTPHeaders': {'x-amz-id-2': 'Xx/trl9/shIYM2B3RJfhbT9mD6Io12i0tb3bHWZWVIz96w4ktS9Y0ATVzQMnoi2R1kMDRxK9bZc=',\n",
    "   'x-amz-request-id': 'BE5EF245147D9544',\n",
    "   'date': 'Fri, 26 Apr 2019 09:29:46 GMT',\n",
    "   'content-type': 'application/xml',\n",
    "   'transfer-encoding': 'chunked',\n",
    "   'server': 'AmazonS3'},\n",
    "  'RetryAttempts': 0},\n",
    " 'Owner': {'ID': '3f574f8158d7a806f65506cd2d420f9f1f411f5dd67a6d444c09a8ad624125f0'},\n",
    " 'Grants': [{'Grantee': {'ID': '3f574f8158d7a806f65506cd2d420f9f1f411f5dd67a6d444c09a8ad624125f0',\n",
    "    'Type': 'CanonicalUser'},\n",
    "   'Permission': 'FULL_CONTROL'},\n",
    "  {'Grantee': {'Type': 'Group',\n",
    "    'URI': 'http://acs.amazonaws.com/groups/global/AllUsers'},\n",
    "   'Permission': 'READ'}]}"
   ]
  }
 ],
 "metadata": {
  "kernelspec": {
   "display_name": "Python 3",
   "language": "python",
   "name": "python3"
  },
  "language_info": {
   "codemirror_mode": {
    "name": "ipython",
    "version": 3
   },
   "file_extension": ".py",
   "mimetype": "text/x-python",
   "name": "python",
   "nbconvert_exporter": "python",
   "pygments_lexer": "ipython3",
   "version": "3.6.5"
  }
 },
 "nbformat": 4,
 "nbformat_minor": 2
}
